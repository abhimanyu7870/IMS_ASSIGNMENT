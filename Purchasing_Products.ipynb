{
 "cells": [
  {
   "cell_type": "markdown",
   "metadata": {
    "id": "R6NHgAYkxqSl"
   },
   "source": [
    "## Read Data from json"
   ]
  },
  {
   "cell_type": "code",
   "execution_count": 36,
   "metadata": {
    "id": "jkJT24jqug9n"
   },
   "outputs": [],
   "source": [
    "import json\n",
    "import time\n",
    "\n",
    "fd = open(\"record.json\",'r')\n",
    "r = fd.read()\n",
    "fd.close()\n",
    "\n",
    "records = json.loads(r)"
   ]
  },
  {
   "cell_type": "code",
   "execution_count": 37,
   "metadata": {
    "colab": {
     "base_uri": "https://localhost:8080/"
    },
    "id": "CcLYokrlus6z",
    "outputId": "525ffebc-7e32-463b-b0a4-2e6e9fc73f7c"
   },
   "outputs": [
    {
     "data": {
      "text/plain": [
       "{'101': {'Product name': 'cocacola',\n",
       "  'Price': 90,\n",
       "  'Weight': '2l',\n",
       "  'Brand': 'The coca cola company',\n",
       "  'catagory': 'soft drinks',\n",
       "  'Quantity': 90},\n",
       " '102': {'Product name': 'fanta',\n",
       "  'Price': 90,\n",
       "  'Weight': '2l',\n",
       "  'Brand': 'fanta',\n",
       "  'catagory': 'soft drinks',\n",
       "  'Quantity': 91},\n",
       " '103': {'Product name': 'pepsi',\n",
       "  'Price': 90,\n",
       "  'Weight': '2l',\n",
       "  'Brand': 'Pepsi',\n",
       "  'catagory': 'soft drinks',\n",
       "  'Quantity': 90},\n",
       " '104': {'Product name': 'Mirinda',\n",
       "  'Price': 90,\n",
       "  'Weight': '2l',\n",
       "  'Brand': 'Mirinda',\n",
       "  'catagory': 'soft drinks',\n",
       "  'Quantity': 95},\n",
       " '105': {'Product name': 'mountain dew',\n",
       "  'Price': 90,\n",
       "  'Weight': '2l',\n",
       "  'Brand': 'mountain dew',\n",
       "  'catagory': 'soft drinks',\n",
       "  'Quantity': 92},\n",
       " '106': {'Product name': 'sting',\n",
       "  'Price': 40,\n",
       "  'Weight': '1l',\n",
       "  'Brand': 'sting',\n",
       "  'catagory': 'soft drinks',\n",
       "  'Quantity': 100},\n",
       " '107': {'Product name': 'dairymilk',\n",
       "  'Price': 200,\n",
       "  'Weight': '400',\n",
       "  'Brand': 'cadbury',\n",
       "  'catagory': 'chocolate',\n",
       "  'Quantity': 96},\n",
       " '108': {'Product name': 'kitkat',\n",
       "  'Price': 90,\n",
       "  'Weight': '300',\n",
       "  'Brand': 'nestle',\n",
       "  'catagory': 'chocolate',\n",
       "  'Quantity': 97},\n",
       " '109': {'Product name': '5-star',\n",
       "  'Price': 60,\n",
       "  'Weight': '100',\n",
       "  'Brand': 'cadbury',\n",
       "  'catagory': 'chocolate',\n",
       "  'Quantity': 100},\n",
       " '110': {'Product name': 'sneakers',\n",
       "  'Price': 10,\n",
       "  'Weight': '50',\n",
       "  'Brand': 'priyagold',\n",
       "  'catagory': 'chocolate',\n",
       "  'Quantity': 93},\n",
       " '111': {'Product name': 'sneakers',\n",
       "  'Price': 40,\n",
       "  'Weight': '50',\n",
       "  'Brand': 'sneakers',\n",
       "  'catagory': 'chocolate',\n",
       "  'Quantity': 98},\n",
       " '112': {'Product name': 'dairymilk silk ',\n",
       "  'Price': 190,\n",
       "  'Weight': '600',\n",
       "  'Brand': 'cadbury',\n",
       "  'catagory': 'chocolate',\n",
       "  'Quantity': 96},\n",
       " '113': {'Product name': 'bournville',\n",
       "  'Price': 290,\n",
       "  'Weight': '700',\n",
       "  'Brand': 'bournville',\n",
       "  'catagory': 'chocolate',\n",
       "  'Quantity': 98},\n",
       " '114': {'Product name': 'Maggie noodles',\n",
       "  'Price': 90,\n",
       "  'Weight': '500',\n",
       "  'Brand': 'nestle',\n",
       "  'catagory': 'noodles',\n",
       "  'Quantity': 98},\n",
       " '115': {'Product name': 'yippie noodles',\n",
       "  'Price': 90,\n",
       "  'Weight': '500',\n",
       "  'Brand': 'sunfeast',\n",
       "  'catagory': 'noodles',\n",
       "  'Quantity': 100},\n",
       " '116': {'Product name': 'patanjali noodles',\n",
       "  'Price': 90,\n",
       "  'Weight': '500',\n",
       "  'Brand': 'patanjali',\n",
       "  'catagory': 'noodles',\n",
       "  'Quantity': 100},\n",
       " '117': {'Product name': 'knorr soupy noodles',\n",
       "  'Price': 90,\n",
       "  'Weight': '500',\n",
       "  'Brand': 'knorr',\n",
       "  'catagory': 'noodles',\n",
       "  'Quantity': 100},\n",
       " '118': {'Product name': 'Top ramen',\n",
       "  'Price': 90,\n",
       "  'Weight': '500',\n",
       "  'Brand': 'ramen',\n",
       "  'catagory': 'noodles',\n",
       "  'Quantity': 100},\n",
       " '119': {'Product name': 'maggie red pasta',\n",
       "  'Price': 90,\n",
       "  'Weight': '500',\n",
       "  'Brand': 'nestle',\n",
       "  'catagory': 'pasta',\n",
       "  'Quantity': 98},\n",
       " '120': {'Product name': 'maggie white sauce pasta',\n",
       "  'Price': 90,\n",
       "  'Weight': '500',\n",
       "  'Brand': 'nestle',\n",
       "  'catagory': 'pasta',\n",
       "  'Quantity': 98},\n",
       " '121': {'Product name': 'maggie italian pasta',\n",
       "  'Price': 80,\n",
       "  'Weight': '500',\n",
       "  'Brand': 'nestle',\n",
       "  'catagory': 'pasta',\n",
       "  'Quantity': 100},\n",
       " '122': {'Product name': 'maggie cheese pasta',\n",
       "  'Price': 70,\n",
       "  'Weight': '500',\n",
       "  'Brand': 'nestle',\n",
       "  'catagory': 'pasta',\n",
       "  'Quantity': 100},\n",
       " '123': {'Product name': 'potato',\n",
       "  'Price': 30,\n",
       "  'Weight': '2000',\n",
       "  'Brand': 'None',\n",
       "  'catagory': 'Food',\n",
       "  'Quantity': 100},\n",
       " '124': {'Product name': 'lays classic',\n",
       "  'Price': 40,\n",
       "  'Weight': '400',\n",
       "  'Brand': 'lays India',\n",
       "  'catagory': 'chips',\n",
       "  'Quantity': 100},\n",
       " '125': {'Product name': 'lays cream & onion',\n",
       "  'Price': 30,\n",
       "  'Weight': '200',\n",
       "  'Brand': 'lays India',\n",
       "  'catagory': 'chips',\n",
       "  'Quantity': 100},\n",
       " '126': {'Product name': 'lays tango tomato',\n",
       "  'Price': 30,\n",
       "  'Weight': '200',\n",
       "  'Brand': 'lays India',\n",
       "  'catagory': 'chips',\n",
       "  'Quantity': 100},\n",
       " '127': {'Product name': 'hide & seek',\n",
       "  'Price': 40,\n",
       "  'Weight': '500',\n",
       "  'Brand': 'parle',\n",
       "  'catagory': 'buscuits',\n",
       "  'Quantity': 100},\n",
       " '128': {'Product name': 'oreo',\n",
       "  'Price': 90,\n",
       "  'Weight': '300',\n",
       "  'Brand': 'cadbury',\n",
       "  'catagory': 'buscuits',\n",
       "  'Quantity': 100},\n",
       " '129': {'Product name': 'milano',\n",
       "  'Price': 40,\n",
       "  'Weight': '100',\n",
       "  'Brand': 'parle',\n",
       "  'catagory': 'buscuits',\n",
       "  'Quantity': 98},\n",
       " '130': {'Product name': 'sunfeast farm light oat',\n",
       "  'Price': 50,\n",
       "  'Weight': '250',\n",
       "  'Brand': 'sunfeast',\n",
       "  'catagory': 'buscuits',\n",
       "  'Quantity': 100},\n",
       " '131': {'Product name': 'butterbite',\n",
       "  'Price': 20,\n",
       "  'Weight': '250',\n",
       "  'Brand': 'priyagold',\n",
       "  'catagory': 'buscuits',\n",
       "  'Quantity': 100},\n",
       " '132': {'Product name': 'sunfeast dark fantasy',\n",
       "  'Price': 90,\n",
       "  'Weight': '100',\n",
       "  'Brand': 'sunfeast',\n",
       "  'catagory': 'buscuits',\n",
       "  'Quantity': 100},\n",
       " '133': {'Product name': 'amul cow milk',\n",
       "  'Price': 90,\n",
       "  'Weight': '2l',\n",
       "  'Brand': 'amul',\n",
       "  'catagory': 'milk',\n",
       "  'Quantity': 100},\n",
       " '134': {'Product name': 'amul butter',\n",
       "  'Price': 90,\n",
       "  'Weight': '300',\n",
       "  'Brand': 'amul',\n",
       "  'catagory': 'buscuits',\n",
       "  'Quantity': 68},\n",
       " '135': {'Product name': 'tomato ketchup',\n",
       "  'Price': 40,\n",
       "  'Weight': '100L',\n",
       "  'Brand': 'kisan',\n",
       "  'catagory': 'sauce',\n",
       "  'Quantity': 100},\n",
       " '136': {'Product name': 'mayoniese',\n",
       "  'Price': 190,\n",
       "  'Weight': '900',\n",
       "  'Brand': 'veeba',\n",
       "  'catagory': 'mayoniese',\n",
       "  'Quantity': 100},\n",
       " '137': {'Product_name': 'Chicken',\n",
       "  'Price': 180,\n",
       "  'Weight': 500,\n",
       "  'Brand': 'Zaika',\n",
       "  'Category': 'Non Veg',\n",
       "  'Quantity': 20},\n",
       " '138': {'Product name': 'Rice',\n",
       "  'Price': 40,\n",
       "  'Quantity': 500,\n",
       "  'Brand': 'Kailasha',\n",
       "  'Caregory': 'Bashmati'},\n",
       " '139': {'Product name': 'Flour',\n",
       "  'Price': 20,\n",
       "  'Weight': 500,\n",
       "  'Brand': 'Ashirvad',\n",
       "  'Caregory': 'Fine AAta',\n",
       "  'Quantity': 10}}"
      ]
     },
     "execution_count": 37,
     "metadata": {},
     "output_type": "execute_result"
    }
   ],
   "source": [
    "records"
   ]
  },
  {
   "cell_type": "markdown",
   "metadata": {
    "id": "WI5f7HTuxwzb"
   },
   "source": [
    "## Purchase"
   ]
  },
  {
   "cell_type": "code",
   "execution_count": 38,
   "metadata": {
    "colab": {
     "base_uri": "https://localhost:8080/"
    },
    "id": "c4E4eIvyuth0",
    "outputId": "91896933-af33-4e3e-ad2b-478c1243c6a3"
   },
   "outputs": [
    {
     "name": "stdout",
     "output_type": "stream",
     "text": [
      "Enter the product_Id: 109\n",
      "Enter the quantity: 5\n",
      "Product name:  5-star\n",
      "Price:  60\n"
     ]
    }
   ],
   "source": [
    "product_id = str(input(\"Enter the product_Id: \"))\n",
    "quantity= int(input(\"Enter the quantity: \"))\n",
    "\n",
    "\n",
    "print(\"Product name: \", records[product_id]['Product name'])\n",
    "print(\"Price: \", records[product_id]['Price'])\n",
    "\n",
    "records[product_id]['Quantity'] = records[product_id]['Quantity'] - quantity"
   ]
  },
  {
   "cell_type": "markdown",
   "metadata": {
    "id": "3h8S8JBVx1_D"
   },
   "source": [
    "## Update Inventory after purchase"
   ]
  },
  {
   "cell_type": "code",
   "execution_count": 39,
   "metadata": {
    "id": "TO68fUvvwzXt"
   },
   "outputs": [],
   "source": [
    "js = json.dumps(records)\n",
    "\n",
    "fd = open(\"record.json\",'w')\n",
    "fd.write(js)\n",
    "fd.close()"
   ]
  },
  {
   "cell_type": "code",
   "execution_count": 40,
   "metadata": {},
   "outputs": [
    {
     "data": {
      "text/plain": [
       "{'101': {'Product name': 'cocacola',\n",
       "  'Price': 90,\n",
       "  'Weight': '2l',\n",
       "  'Brand': 'The coca cola company',\n",
       "  'catagory': 'soft drinks',\n",
       "  'Quantity': 90},\n",
       " '102': {'Product name': 'fanta',\n",
       "  'Price': 90,\n",
       "  'Weight': '2l',\n",
       "  'Brand': 'fanta',\n",
       "  'catagory': 'soft drinks',\n",
       "  'Quantity': 91},\n",
       " '103': {'Product name': 'pepsi',\n",
       "  'Price': 90,\n",
       "  'Weight': '2l',\n",
       "  'Brand': 'Pepsi',\n",
       "  'catagory': 'soft drinks',\n",
       "  'Quantity': 90},\n",
       " '104': {'Product name': 'Mirinda',\n",
       "  'Price': 90,\n",
       "  'Weight': '2l',\n",
       "  'Brand': 'Mirinda',\n",
       "  'catagory': 'soft drinks',\n",
       "  'Quantity': 95},\n",
       " '105': {'Product name': 'mountain dew',\n",
       "  'Price': 90,\n",
       "  'Weight': '2l',\n",
       "  'Brand': 'mountain dew',\n",
       "  'catagory': 'soft drinks',\n",
       "  'Quantity': 92},\n",
       " '106': {'Product name': 'sting',\n",
       "  'Price': 40,\n",
       "  'Weight': '1l',\n",
       "  'Brand': 'sting',\n",
       "  'catagory': 'soft drinks',\n",
       "  'Quantity': 100},\n",
       " '107': {'Product name': 'dairymilk',\n",
       "  'Price': 200,\n",
       "  'Weight': '400',\n",
       "  'Brand': 'cadbury',\n",
       "  'catagory': 'chocolate',\n",
       "  'Quantity': 96},\n",
       " '108': {'Product name': 'kitkat',\n",
       "  'Price': 90,\n",
       "  'Weight': '300',\n",
       "  'Brand': 'nestle',\n",
       "  'catagory': 'chocolate',\n",
       "  'Quantity': 97},\n",
       " '109': {'Product name': '5-star',\n",
       "  'Price': 60,\n",
       "  'Weight': '100',\n",
       "  'Brand': 'cadbury',\n",
       "  'catagory': 'chocolate',\n",
       "  'Quantity': 95},\n",
       " '110': {'Product name': 'sneakers',\n",
       "  'Price': 10,\n",
       "  'Weight': '50',\n",
       "  'Brand': 'priyagold',\n",
       "  'catagory': 'chocolate',\n",
       "  'Quantity': 93},\n",
       " '111': {'Product name': 'sneakers',\n",
       "  'Price': 40,\n",
       "  'Weight': '50',\n",
       "  'Brand': 'sneakers',\n",
       "  'catagory': 'chocolate',\n",
       "  'Quantity': 98},\n",
       " '112': {'Product name': 'dairymilk silk ',\n",
       "  'Price': 190,\n",
       "  'Weight': '600',\n",
       "  'Brand': 'cadbury',\n",
       "  'catagory': 'chocolate',\n",
       "  'Quantity': 96},\n",
       " '113': {'Product name': 'bournville',\n",
       "  'Price': 290,\n",
       "  'Weight': '700',\n",
       "  'Brand': 'bournville',\n",
       "  'catagory': 'chocolate',\n",
       "  'Quantity': 98},\n",
       " '114': {'Product name': 'Maggie noodles',\n",
       "  'Price': 90,\n",
       "  'Weight': '500',\n",
       "  'Brand': 'nestle',\n",
       "  'catagory': 'noodles',\n",
       "  'Quantity': 98},\n",
       " '115': {'Product name': 'yippie noodles',\n",
       "  'Price': 90,\n",
       "  'Weight': '500',\n",
       "  'Brand': 'sunfeast',\n",
       "  'catagory': 'noodles',\n",
       "  'Quantity': 100},\n",
       " '116': {'Product name': 'patanjali noodles',\n",
       "  'Price': 90,\n",
       "  'Weight': '500',\n",
       "  'Brand': 'patanjali',\n",
       "  'catagory': 'noodles',\n",
       "  'Quantity': 100},\n",
       " '117': {'Product name': 'knorr soupy noodles',\n",
       "  'Price': 90,\n",
       "  'Weight': '500',\n",
       "  'Brand': 'knorr',\n",
       "  'catagory': 'noodles',\n",
       "  'Quantity': 100},\n",
       " '118': {'Product name': 'Top ramen',\n",
       "  'Price': 90,\n",
       "  'Weight': '500',\n",
       "  'Brand': 'ramen',\n",
       "  'catagory': 'noodles',\n",
       "  'Quantity': 100},\n",
       " '119': {'Product name': 'maggie red pasta',\n",
       "  'Price': 90,\n",
       "  'Weight': '500',\n",
       "  'Brand': 'nestle',\n",
       "  'catagory': 'pasta',\n",
       "  'Quantity': 98},\n",
       " '120': {'Product name': 'maggie white sauce pasta',\n",
       "  'Price': 90,\n",
       "  'Weight': '500',\n",
       "  'Brand': 'nestle',\n",
       "  'catagory': 'pasta',\n",
       "  'Quantity': 98},\n",
       " '121': {'Product name': 'maggie italian pasta',\n",
       "  'Price': 80,\n",
       "  'Weight': '500',\n",
       "  'Brand': 'nestle',\n",
       "  'catagory': 'pasta',\n",
       "  'Quantity': 100},\n",
       " '122': {'Product name': 'maggie cheese pasta',\n",
       "  'Price': 70,\n",
       "  'Weight': '500',\n",
       "  'Brand': 'nestle',\n",
       "  'catagory': 'pasta',\n",
       "  'Quantity': 100},\n",
       " '123': {'Product name': 'potato',\n",
       "  'Price': 30,\n",
       "  'Weight': '2000',\n",
       "  'Brand': 'None',\n",
       "  'catagory': 'Food',\n",
       "  'Quantity': 100},\n",
       " '124': {'Product name': 'lays classic',\n",
       "  'Price': 40,\n",
       "  'Weight': '400',\n",
       "  'Brand': 'lays India',\n",
       "  'catagory': 'chips',\n",
       "  'Quantity': 100},\n",
       " '125': {'Product name': 'lays cream & onion',\n",
       "  'Price': 30,\n",
       "  'Weight': '200',\n",
       "  'Brand': 'lays India',\n",
       "  'catagory': 'chips',\n",
       "  'Quantity': 100},\n",
       " '126': {'Product name': 'lays tango tomato',\n",
       "  'Price': 30,\n",
       "  'Weight': '200',\n",
       "  'Brand': 'lays India',\n",
       "  'catagory': 'chips',\n",
       "  'Quantity': 100},\n",
       " '127': {'Product name': 'hide & seek',\n",
       "  'Price': 40,\n",
       "  'Weight': '500',\n",
       "  'Brand': 'parle',\n",
       "  'catagory': 'buscuits',\n",
       "  'Quantity': 100},\n",
       " '128': {'Product name': 'oreo',\n",
       "  'Price': 90,\n",
       "  'Weight': '300',\n",
       "  'Brand': 'cadbury',\n",
       "  'catagory': 'buscuits',\n",
       "  'Quantity': 100},\n",
       " '129': {'Product name': 'milano',\n",
       "  'Price': 40,\n",
       "  'Weight': '100',\n",
       "  'Brand': 'parle',\n",
       "  'catagory': 'buscuits',\n",
       "  'Quantity': 98},\n",
       " '130': {'Product name': 'sunfeast farm light oat',\n",
       "  'Price': 50,\n",
       "  'Weight': '250',\n",
       "  'Brand': 'sunfeast',\n",
       "  'catagory': 'buscuits',\n",
       "  'Quantity': 100},\n",
       " '131': {'Product name': 'butterbite',\n",
       "  'Price': 20,\n",
       "  'Weight': '250',\n",
       "  'Brand': 'priyagold',\n",
       "  'catagory': 'buscuits',\n",
       "  'Quantity': 100},\n",
       " '132': {'Product name': 'sunfeast dark fantasy',\n",
       "  'Price': 90,\n",
       "  'Weight': '100',\n",
       "  'Brand': 'sunfeast',\n",
       "  'catagory': 'buscuits',\n",
       "  'Quantity': 100},\n",
       " '133': {'Product name': 'amul cow milk',\n",
       "  'Price': 90,\n",
       "  'Weight': '2l',\n",
       "  'Brand': 'amul',\n",
       "  'catagory': 'milk',\n",
       "  'Quantity': 100},\n",
       " '134': {'Product name': 'amul butter',\n",
       "  'Price': 90,\n",
       "  'Weight': '300',\n",
       "  'Brand': 'amul',\n",
       "  'catagory': 'buscuits',\n",
       "  'Quantity': 68},\n",
       " '135': {'Product name': 'tomato ketchup',\n",
       "  'Price': 40,\n",
       "  'Weight': '100L',\n",
       "  'Brand': 'kisan',\n",
       "  'catagory': 'sauce',\n",
       "  'Quantity': 100},\n",
       " '136': {'Product name': 'mayoniese',\n",
       "  'Price': 190,\n",
       "  'Weight': '900',\n",
       "  'Brand': 'veeba',\n",
       "  'catagory': 'mayoniese',\n",
       "  'Quantity': 100},\n",
       " '137': {'Product_name': 'Chicken',\n",
       "  'Price': 180,\n",
       "  'Weight': 500,\n",
       "  'Brand': 'Zaika',\n",
       "  'Category': 'Non Veg',\n",
       "  'Quantity': 20},\n",
       " '138': {'Product name': 'Rice',\n",
       "  'Price': 40,\n",
       "  'Quantity': 500,\n",
       "  'Brand': 'Kailasha',\n",
       "  'Caregory': 'Bashmati'},\n",
       " '139': {'Product name': 'Flour',\n",
       "  'Price': 20,\n",
       "  'Weight': 500,\n",
       "  'Brand': 'Ashirvad',\n",
       "  'Caregory': 'Fine AAta',\n",
       "  'Quantity': 10}}"
      ]
     },
     "execution_count": 40,
     "metadata": {},
     "output_type": "execute_result"
    }
   ],
   "source": [
    "records"
   ]
  },
  {
   "cell_type": "markdown",
   "metadata": {},
   "source": [
    "## Sale JSON"
   ]
  },
  {
   "cell_type": "code",
   "execution_count": 41,
   "metadata": {},
   "outputs": [
    {
     "name": "stdout",
     "output_type": "stream",
     "text": [
      "please enter Customer name ABHIMANYU KUMAR\n"
     ]
    }
   ],
   "source": [
    "import time\n",
    "customer_name = input(\"please enter Customer name \")"
   ]
  },
  {
   "cell_type": "code",
   "execution_count": 42,
   "metadata": {},
   "outputs": [
    {
     "name": "stdout",
     "output_type": "stream",
     "text": [
      "*********************************************************************\n",
      " dear  ABHIMANYU KUMAR your bill is ready \n",
      "*********************************************************************\n",
      "*********************************************************************\n",
      "You prchase below items at  Mon Sep  6 18:46:06 2021\n",
      " PRODUCT NAME :  5-star\n",
      " PRODUCT BRAND :  cadbury\n",
      " PRICE OF  1 PRODUCT :  60\n",
      " NUMBER OF PRODUCT YOU BUY :  5\n",
      " YOU HAVE TO PAY :  300\n",
      "*********************************************************************\n",
      "*********************************************************************\n",
      " HAPPY SHOPPING HAVE A NICE DAY AHEAD !!!!!! \n",
      "*********************************************************************\n"
     ]
    }
   ],
   "source": [
    "print(\"*********************************************************************\")\n",
    "print(\" dear \" , customer_name , \"your bill is ready \")\n",
    " \n",
    "print(\"*********************************************************************\")\n",
    "print(\"*********************************************************************\")\n",
    "\n",
    "print(\"You prchase below items at \",time.ctime()) \n",
    "print(\" PRODUCT NAME : \" ,  records[product_id][\"Product name\"])\n",
    "print(\" PRODUCT BRAND : \" , records[product_id][\"Brand\"])     \n",
    "print(\" PRICE OF  1 PRODUCT : \" , records[product_id][\"Price\"]) \n",
    "print(\" NUMBER OF PRODUCT YOU BUY : \" , quantity  )      \n",
    "print(\" YOU HAVE TO PAY : \", records[product_id][\"Price\"] * quantity)\n",
    "print(\"*********************************************************************\")\n",
    "print(\"*********************************************************************\")\n",
    "print(\" HAPPY SHOPPING HAVE A NICE DAY AHEAD !!!!!! \") \n",
    "\n",
    "print(\"*********************************************************************\")"
   ]
  },
  {
   "cell_type": "code",
   "execution_count": 43,
   "metadata": {},
   "outputs": [
    {
     "data": {
      "text/plain": [
       "{'Product_id': '109', 'Quantity': 5, 'Total bill': 60}"
      ]
     },
     "execution_count": 43,
     "metadata": {},
     "output_type": "execute_result"
    }
   ],
   "source": [
    "{\"Product_id\" :product_id, \"Quantity\" : quantity, \"Total bill\": records[product_id][\"Price\"]}"
   ]
  },
  {
   "cell_type": "code",
   "execution_count": 44,
   "metadata": {},
   "outputs": [],
   "source": [
    "sales = {1 : {\"Product_id\" :product_id, \"Quantity\" : quantity, \"Total bill\": records[product_id][\"Price\"]},\n",
    "        2 : {\"Product_id\" :product_id, \"Quantity\" : quantity, \"Total bill\": records[product_id][\"Price\"]}}"
   ]
  },
  {
   "cell_type": "code",
   "execution_count": 45,
   "metadata": {},
   "outputs": [
    {
     "data": {
      "text/plain": [
       "'{\"1\": {\"Product_id\": \"109\", \"Quantity\": 5, \"Total bill\": 60}, \"2\": {\"Product_id\": \"109\", \"Quantity\": 5, \"Total bill\": 60}}'"
      ]
     },
     "execution_count": 45,
     "metadata": {},
     "output_type": "execute_result"
    }
   ],
   "source": [
    "json.dumps(sales )"
   ]
  },
  {
   "cell_type": "code",
   "execution_count": 46,
   "metadata": {},
   "outputs": [],
   "source": [
    "sales[(len(sales)+1)] : {\"Product_id\" :product_id, \"Quantity\" : quantity, \"Total bill\": records[product_id][\"Price\"]}"
   ]
  },
  {
   "cell_type": "code",
   "execution_count": 47,
   "metadata": {},
   "outputs": [
    {
     "data": {
      "text/plain": [
       "{1: {'Product_id': '109', 'Quantity': 5, 'Total bill': 60},\n",
       " 2: {'Product_id': '109', 'Quantity': 5, 'Total bill': 60}}"
      ]
     },
     "execution_count": 47,
     "metadata": {},
     "output_type": "execute_result"
    }
   ],
   "source": [
    "sales"
   ]
  },
  {
   "cell_type": "code",
   "execution_count": 48,
   "metadata": {},
   "outputs": [],
   "source": [
    "sale = json.dumps(sales )\n",
    "\n",
    "fd = open(\"sales.json\",'w')\n",
    "fd.write(sale)\n",
    "fd.close()"
   ]
  },
  {
   "cell_type": "code",
   "execution_count": 49,
   "metadata": {},
   "outputs": [
    {
     "data": {
      "text/plain": [
       "{3: {'Product_id': '109', 'Quantity': 5, 'Total bill': 60}}"
      ]
     },
     "execution_count": 49,
     "metadata": {},
     "output_type": "execute_result"
    }
   ],
   "source": [
    "{(len(sales)+1) :{\"Product_id\" :product_id, \"Quantity\" : quantity, \"Total bill\": records[product_id][\"Price\"]}}"
   ]
  },
  {
   "cell_type": "code",
   "execution_count": 50,
   "metadata": {},
   "outputs": [],
   "source": [
    "sales[(len(sales)+1)] : {\"Product_id\" :product_id, \"Quantity\" : quantity, \"Total bill\": records[product_id][\"Price\"]}"
   ]
  },
  {
   "cell_type": "code",
   "execution_count": 51,
   "metadata": {},
   "outputs": [
    {
     "data": {
      "text/plain": [
       "{1: {'Product_id': '109', 'Quantity': 5, 'Total bill': 60},\n",
       " 2: {'Product_id': '109', 'Quantity': 5, 'Total bill': 60}}"
      ]
     },
     "execution_count": 51,
     "metadata": {},
     "output_type": "execute_result"
    }
   ],
   "source": [
    "sales"
   ]
  },
  {
   "cell_type": "code",
   "execution_count": null,
   "metadata": {},
   "outputs": [],
   "source": []
  }
 ],
 "metadata": {
  "colab": {
   "name": "Purchasing Products",
   "provenance": []
  },
  "kernelspec": {
   "display_name": "Python 3",
   "language": "python",
   "name": "python3"
  },
  "language_info": {
   "codemirror_mode": {
    "name": "ipython",
    "version": 3
   },
   "file_extension": ".py",
   "mimetype": "text/x-python",
   "name": "python",
   "nbconvert_exporter": "python",
   "pygments_lexer": "ipython3",
   "version": "3.7.10"
  }
 },
 "nbformat": 4,
 "nbformat_minor": 1
}
